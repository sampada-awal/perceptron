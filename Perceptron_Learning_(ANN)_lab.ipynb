{
  "nbformat": 4,
  "nbformat_minor": 0,
  "metadata": {
    "colab": {
      "provenance": []
    },
    "kernelspec": {
      "name": "python3",
      "display_name": "Python 3"
    },
    "language_info": {
      "name": "python"
    }
  },
  "cells": [
    {
      "cell_type": "markdown",
      "source": [
        "## **Rossenblatt Neuron**"
      ],
      "metadata": {
        "id": "OuyIuKYJZk8U"
      }
    },
    {
      "cell_type": "code",
      "execution_count": null,
      "metadata": {
        "id": "vO7KN8JnWv0y"
      },
      "outputs": [],
      "source": [
        "import pandas as pd\n",
        "import numpy as np"
      ]
    },
    {
      "cell_type": "code",
      "source": [
        "class StepFunction(object):\n",
        "    def __init__(self):\n",
        "      pass\n",
        "    def linear(self, sum):\n",
        "      if sum >= 0:\n",
        "        return 1\n",
        "      return -1\n",
        "class RosenblattNeuron(object):\n",
        "  def __init__(self, shape, learning_rate =1, epoch=10):\n",
        "      self.shape = shape\n",
        "      self.learning_rate = learning_rate\n",
        "      self.epochs = epoch\n",
        "      self.weights = np.zeros(self.shape)\n",
        "      self.bias = np.zeros(1)\n",
        "  def train(self, inputs, targets, loss_func = object):\n",
        "      total_error = 0\n",
        "      self.loss_function = loss_func\n",
        "      for epoch in range(self.epochs):\n",
        "        for i in range(len(inputs)):\n",
        "          input_pattern = inputs[i]\n",
        "          target = targets[i]\n",
        "          output = input_pattern.dot(self.weights)+self.bias\n",
        "          prediction = loss_func.linear(output)\n",
        "          total_error += target - prediction\n",
        "\n",
        "          if target != prediction:\n",
        "            self.weights += self.learning_rate * target * input_pattern\n",
        "            self.bias += self.learning_rate * target\n",
        "            print(\"Weight updated: \" + str(self.weights[0]))\n",
        "            print(\"Weight updated: \" + str(self.weights[1]))\n",
        "            print(\"Bias updated: \" + str(self.bias))\n",
        "            print(\"----------------------------------------\")\n",
        "\n",
        "        print(\"Total error: \" + str(total_error))\n",
        "        print(\"----------------------------------------\")\n",
        "  def predict(self, inputs, ret = False):\n",
        "     self.out_raw =[]\n",
        "     self.out_val =[]\n",
        "     for input_pattern in inputs:\n",
        "        sum = input_pattern.dot(self.weights)+self.bias\n",
        "        self.out_raw.append(sum)\n",
        "        output = self.loss_function.linear(sum)\n",
        "        self.out_val.append(output)\n",
        "        if not ret:\n",
        "          print(f\"Input: {input_pattern}, Output:{output > 0}\")\n",
        "\n",
        "  def TruthTable(self, input, input_labels, output_labels):\n",
        "    table = pd.DataFrame(input, columns = input_labels)\n",
        "\n",
        "    self.predict(input,True)\n",
        "    # for row in input:\n",
        "    #     signal = object.predict(message = row)\n",
        "    #     out_signals.append(signal)\n",
        "    table[output_labels] = pd.Series(self.out_val)\n",
        "    return table\n",
        "\n",
        "\n",
        "\n",
        "\n",
        "\n"
      ],
      "metadata": {
        "id": "v6IkMDqfLSfT"
      },
      "execution_count": null,
      "outputs": []
    },
    {
      "cell_type": "code",
      "source": [
        "inputs = np.array([[-1, -1], [-1, 1], [1, -1], [1, 1]])\n",
        "targets = np.array([-1, 1, 1, 1])"
      ],
      "metadata": {
        "id": "Vmu9LEwwR_F5"
      },
      "execution_count": null,
      "outputs": []
    },
    {
      "cell_type": "code",
      "source": [
        "step= StepFunction()"
      ],
      "metadata": {
        "id": "BiTHy_IVQYAM"
      },
      "execution_count": null,
      "outputs": []
    },
    {
      "cell_type": "code",
      "source": [
        "rosen = RosenblattNeuron(inputs.shape[1], 0.1,100)"
      ],
      "metadata": {
        "id": "7HxrRG81Qb9s"
      },
      "execution_count": null,
      "outputs": []
    },
    {
      "cell_type": "code",
      "source": [
        "rosen.predict(inputs)"
      ],
      "metadata": {
        "colab": {
          "base_uri": "https://localhost:8080/"
        },
        "id": "c7nbdrjXSRk1",
        "outputId": "a6c7a666-880e-4715-9c4e-0dd3be8445e0"
      },
      "execution_count": null,
      "outputs": [
        {
          "output_type": "stream",
          "name": "stdout",
          "text": [
            "Input: [-1 -1], Output:False\n",
            "Input: [-1  1], Output:True\n",
            "Input: [ 1 -1], Output:True\n",
            "Input: [1 1], Output:True\n"
          ]
        }
      ]
    },
    {
      "cell_type": "code",
      "source": [
        "in_labels = ['x1', 'x2']\n",
        "out_label = 'y'\n",
        "rosen.TruthTable(inputs,in_labels,out_label)"
      ],
      "metadata": {
        "colab": {
          "base_uri": "https://localhost:8080/",
          "height": 175
        },
        "id": "iAOwoPb9Vmz7",
        "outputId": "28b6f8fc-3abe-4363-e983-2644af1e9de7"
      },
      "execution_count": null,
      "outputs": [
        {
          "output_type": "execute_result",
          "data": {
            "text/plain": [
              "   x1  x2  y\n",
              "0  -1  -1 -1\n",
              "1  -1   1  1\n",
              "2   1  -1  1\n",
              "3   1   1  1"
            ],
            "text/html": [
              "\n",
              "  <div id=\"df-b40cd388-820c-48a8-b0bb-bbf72e569121\" class=\"colab-df-container\">\n",
              "    <div>\n",
              "<style scoped>\n",
              "    .dataframe tbody tr th:only-of-type {\n",
              "        vertical-align: middle;\n",
              "    }\n",
              "\n",
              "    .dataframe tbody tr th {\n",
              "        vertical-align: top;\n",
              "    }\n",
              "\n",
              "    .dataframe thead th {\n",
              "        text-align: right;\n",
              "    }\n",
              "</style>\n",
              "<table border=\"1\" class=\"dataframe\">\n",
              "  <thead>\n",
              "    <tr style=\"text-align: right;\">\n",
              "      <th></th>\n",
              "      <th>x1</th>\n",
              "      <th>x2</th>\n",
              "      <th>y</th>\n",
              "    </tr>\n",
              "  </thead>\n",
              "  <tbody>\n",
              "    <tr>\n",
              "      <th>0</th>\n",
              "      <td>-1</td>\n",
              "      <td>-1</td>\n",
              "      <td>-1</td>\n",
              "    </tr>\n",
              "    <tr>\n",
              "      <th>1</th>\n",
              "      <td>-1</td>\n",
              "      <td>1</td>\n",
              "      <td>1</td>\n",
              "    </tr>\n",
              "    <tr>\n",
              "      <th>2</th>\n",
              "      <td>1</td>\n",
              "      <td>-1</td>\n",
              "      <td>1</td>\n",
              "    </tr>\n",
              "    <tr>\n",
              "      <th>3</th>\n",
              "      <td>1</td>\n",
              "      <td>1</td>\n",
              "      <td>1</td>\n",
              "    </tr>\n",
              "  </tbody>\n",
              "</table>\n",
              "</div>\n",
              "    <div class=\"colab-df-buttons\">\n",
              "\n",
              "  <div class=\"colab-df-container\">\n",
              "    <button class=\"colab-df-convert\" onclick=\"convertToInteractive('df-b40cd388-820c-48a8-b0bb-bbf72e569121')\"\n",
              "            title=\"Convert this dataframe to an interactive table.\"\n",
              "            style=\"display:none;\">\n",
              "\n",
              "  <svg xmlns=\"http://www.w3.org/2000/svg\" height=\"24px\" viewBox=\"0 -960 960 960\">\n",
              "    <path d=\"M120-120v-720h720v720H120Zm60-500h600v-160H180v160Zm220 220h160v-160H400v160Zm0 220h160v-160H400v160ZM180-400h160v-160H180v160Zm440 0h160v-160H620v160ZM180-180h160v-160H180v160Zm440 0h160v-160H620v160Z\"/>\n",
              "  </svg>\n",
              "    </button>\n",
              "\n",
              "  <style>\n",
              "    .colab-df-container {\n",
              "      display:flex;\n",
              "      gap: 12px;\n",
              "    }\n",
              "\n",
              "    .colab-df-convert {\n",
              "      background-color: #E8F0FE;\n",
              "      border: none;\n",
              "      border-radius: 50%;\n",
              "      cursor: pointer;\n",
              "      display: none;\n",
              "      fill: #1967D2;\n",
              "      height: 32px;\n",
              "      padding: 0 0 0 0;\n",
              "      width: 32px;\n",
              "    }\n",
              "\n",
              "    .colab-df-convert:hover {\n",
              "      background-color: #E2EBFA;\n",
              "      box-shadow: 0px 1px 2px rgba(60, 64, 67, 0.3), 0px 1px 3px 1px rgba(60, 64, 67, 0.15);\n",
              "      fill: #174EA6;\n",
              "    }\n",
              "\n",
              "    .colab-df-buttons div {\n",
              "      margin-bottom: 4px;\n",
              "    }\n",
              "\n",
              "    [theme=dark] .colab-df-convert {\n",
              "      background-color: #3B4455;\n",
              "      fill: #D2E3FC;\n",
              "    }\n",
              "\n",
              "    [theme=dark] .colab-df-convert:hover {\n",
              "      background-color: #434B5C;\n",
              "      box-shadow: 0px 1px 3px 1px rgba(0, 0, 0, 0.15);\n",
              "      filter: drop-shadow(0px 1px 2px rgba(0, 0, 0, 0.3));\n",
              "      fill: #FFFFFF;\n",
              "    }\n",
              "  </style>\n",
              "\n",
              "    <script>\n",
              "      const buttonEl =\n",
              "        document.querySelector('#df-b40cd388-820c-48a8-b0bb-bbf72e569121 button.colab-df-convert');\n",
              "      buttonEl.style.display =\n",
              "        google.colab.kernel.accessAllowed ? 'block' : 'none';\n",
              "\n",
              "      async function convertToInteractive(key) {\n",
              "        const element = document.querySelector('#df-b40cd388-820c-48a8-b0bb-bbf72e569121');\n",
              "        const dataTable =\n",
              "          await google.colab.kernel.invokeFunction('convertToInteractive',\n",
              "                                                    [key], {});\n",
              "        if (!dataTable) return;\n",
              "\n",
              "        const docLinkHtml = 'Like what you see? Visit the ' +\n",
              "          '<a target=\"_blank\" href=https://colab.research.google.com/notebooks/data_table.ipynb>data table notebook</a>'\n",
              "          + ' to learn more about interactive tables.';\n",
              "        element.innerHTML = '';\n",
              "        dataTable['output_type'] = 'display_data';\n",
              "        await google.colab.output.renderOutput(dataTable, element);\n",
              "        const docLink = document.createElement('div');\n",
              "        docLink.innerHTML = docLinkHtml;\n",
              "        element.appendChild(docLink);\n",
              "      }\n",
              "    </script>\n",
              "  </div>\n",
              "\n",
              "\n",
              "<div id=\"df-fd0dad14-239a-486d-98d3-4a644ac508b0\">\n",
              "  <button class=\"colab-df-quickchart\" onclick=\"quickchart('df-fd0dad14-239a-486d-98d3-4a644ac508b0')\"\n",
              "            title=\"Suggest charts\"\n",
              "            style=\"display:none;\">\n",
              "\n",
              "<svg xmlns=\"http://www.w3.org/2000/svg\" height=\"24px\"viewBox=\"0 0 24 24\"\n",
              "     width=\"24px\">\n",
              "    <g>\n",
              "        <path d=\"M19 3H5c-1.1 0-2 .9-2 2v14c0 1.1.9 2 2 2h14c1.1 0 2-.9 2-2V5c0-1.1-.9-2-2-2zM9 17H7v-7h2v7zm4 0h-2V7h2v10zm4 0h-2v-4h2v4z\"/>\n",
              "    </g>\n",
              "</svg>\n",
              "  </button>\n",
              "\n",
              "<style>\n",
              "  .colab-df-quickchart {\n",
              "      --bg-color: #E8F0FE;\n",
              "      --fill-color: #1967D2;\n",
              "      --hover-bg-color: #E2EBFA;\n",
              "      --hover-fill-color: #174EA6;\n",
              "      --disabled-fill-color: #AAA;\n",
              "      --disabled-bg-color: #DDD;\n",
              "  }\n",
              "\n",
              "  [theme=dark] .colab-df-quickchart {\n",
              "      --bg-color: #3B4455;\n",
              "      --fill-color: #D2E3FC;\n",
              "      --hover-bg-color: #434B5C;\n",
              "      --hover-fill-color: #FFFFFF;\n",
              "      --disabled-bg-color: #3B4455;\n",
              "      --disabled-fill-color: #666;\n",
              "  }\n",
              "\n",
              "  .colab-df-quickchart {\n",
              "    background-color: var(--bg-color);\n",
              "    border: none;\n",
              "    border-radius: 50%;\n",
              "    cursor: pointer;\n",
              "    display: none;\n",
              "    fill: var(--fill-color);\n",
              "    height: 32px;\n",
              "    padding: 0;\n",
              "    width: 32px;\n",
              "  }\n",
              "\n",
              "  .colab-df-quickchart:hover {\n",
              "    background-color: var(--hover-bg-color);\n",
              "    box-shadow: 0 1px 2px rgba(60, 64, 67, 0.3), 0 1px 3px 1px rgba(60, 64, 67, 0.15);\n",
              "    fill: var(--button-hover-fill-color);\n",
              "  }\n",
              "\n",
              "  .colab-df-quickchart-complete:disabled,\n",
              "  .colab-df-quickchart-complete:disabled:hover {\n",
              "    background-color: var(--disabled-bg-color);\n",
              "    fill: var(--disabled-fill-color);\n",
              "    box-shadow: none;\n",
              "  }\n",
              "\n",
              "  .colab-df-spinner {\n",
              "    border: 2px solid var(--fill-color);\n",
              "    border-color: transparent;\n",
              "    border-bottom-color: var(--fill-color);\n",
              "    animation:\n",
              "      spin 1s steps(1) infinite;\n",
              "  }\n",
              "\n",
              "  @keyframes spin {\n",
              "    0% {\n",
              "      border-color: transparent;\n",
              "      border-bottom-color: var(--fill-color);\n",
              "      border-left-color: var(--fill-color);\n",
              "    }\n",
              "    20% {\n",
              "      border-color: transparent;\n",
              "      border-left-color: var(--fill-color);\n",
              "      border-top-color: var(--fill-color);\n",
              "    }\n",
              "    30% {\n",
              "      border-color: transparent;\n",
              "      border-left-color: var(--fill-color);\n",
              "      border-top-color: var(--fill-color);\n",
              "      border-right-color: var(--fill-color);\n",
              "    }\n",
              "    40% {\n",
              "      border-color: transparent;\n",
              "      border-right-color: var(--fill-color);\n",
              "      border-top-color: var(--fill-color);\n",
              "    }\n",
              "    60% {\n",
              "      border-color: transparent;\n",
              "      border-right-color: var(--fill-color);\n",
              "    }\n",
              "    80% {\n",
              "      border-color: transparent;\n",
              "      border-right-color: var(--fill-color);\n",
              "      border-bottom-color: var(--fill-color);\n",
              "    }\n",
              "    90% {\n",
              "      border-color: transparent;\n",
              "      border-bottom-color: var(--fill-color);\n",
              "    }\n",
              "  }\n",
              "</style>\n",
              "\n",
              "  <script>\n",
              "    async function quickchart(key) {\n",
              "      const quickchartButtonEl =\n",
              "        document.querySelector('#' + key + ' button');\n",
              "      quickchartButtonEl.disabled = true;  // To prevent multiple clicks.\n",
              "      quickchartButtonEl.classList.add('colab-df-spinner');\n",
              "      try {\n",
              "        const charts = await google.colab.kernel.invokeFunction(\n",
              "            'suggestCharts', [key], {});\n",
              "      } catch (error) {\n",
              "        console.error('Error during call to suggestCharts:', error);\n",
              "      }\n",
              "      quickchartButtonEl.classList.remove('colab-df-spinner');\n",
              "      quickchartButtonEl.classList.add('colab-df-quickchart-complete');\n",
              "    }\n",
              "    (() => {\n",
              "      let quickchartButtonEl =\n",
              "        document.querySelector('#df-fd0dad14-239a-486d-98d3-4a644ac508b0 button');\n",
              "      quickchartButtonEl.style.display =\n",
              "        google.colab.kernel.accessAllowed ? 'block' : 'none';\n",
              "    })();\n",
              "  </script>\n",
              "</div>\n",
              "\n",
              "    </div>\n",
              "  </div>\n"
            ],
            "application/vnd.google.colaboratory.intrinsic+json": {
              "type": "dataframe",
              "summary": "{\n  \"name\": \"rosen\",\n  \"rows\": 4,\n  \"fields\": [\n    {\n      \"column\": \"x1\",\n      \"properties\": {\n        \"dtype\": \"number\",\n        \"std\": 1,\n        \"min\": -1,\n        \"max\": 1,\n        \"num_unique_values\": 2,\n        \"samples\": [\n          1,\n          -1\n        ],\n        \"semantic_type\": \"\",\n        \"description\": \"\"\n      }\n    },\n    {\n      \"column\": \"x2\",\n      \"properties\": {\n        \"dtype\": \"number\",\n        \"std\": 1,\n        \"min\": -1,\n        \"max\": 1,\n        \"num_unique_values\": 2,\n        \"samples\": [\n          1,\n          -1\n        ],\n        \"semantic_type\": \"\",\n        \"description\": \"\"\n      }\n    },\n    {\n      \"column\": \"y\",\n      \"properties\": {\n        \"dtype\": \"number\",\n        \"std\": 1,\n        \"min\": -1,\n        \"max\": 1,\n        \"num_unique_values\": 2,\n        \"samples\": [\n          1,\n          -1\n        ],\n        \"semantic_type\": \"\",\n        \"description\": \"\"\n      }\n    }\n  ]\n}"
            }
          },
          "metadata": {},
          "execution_count": 8
        }
      ]
    },
    {
      "cell_type": "markdown",
      "source": [
        "## **Adeline Perceptron**"
      ],
      "metadata": {
        "id": "7GiMwOzaZ4LI"
      }
    },
    {
      "cell_type": "code",
      "source": [
        "import pandas as pd\n",
        "import numpy as np\n",
        "import matplotlib.pyplot as plt\n",
        "from numpy import random"
      ],
      "metadata": {
        "id": "B_akV7AzNO9f"
      },
      "execution_count": null,
      "outputs": []
    },
    {
      "cell_type": "code",
      "source": [
        "\n",
        "class StepFunction(object):\n",
        "    def __init__(self):\n",
        "      pass\n",
        "    def linear(self, sum):\n",
        "      return np.where(sum >= 0, 1, 0)\n",
        "\n",
        "    def sigmoid(self, x):\n",
        "      \"\"\"Calculates the sigmoid function.\"\"\"\n",
        "      return 1 / (1 + np.exp(-x))\n",
        "\n",
        "    def sigmoid_derivative(self,x):\n",
        "      \"\"\"Calculates the derivative of the sigmoid function.\"\"\"\n",
        "      return self.sigmoid(x) * (1 - self.sigmoid(x))\n",
        "\n",
        "    def relu(self,x):\n",
        "      return np.maximum(0, x)\n",
        "\n",
        "    def relu_derivative(self, x):\n",
        "      return np.where(x > 0, 1, 0)\n",
        "\n",
        "    def leaky_relu(self,x, alpha=0.01):\n",
        "      return np.maximum(alpha * x, x)\n",
        "\n",
        "    def leaky_relu_derivative(self, x, alpha=0.01):\n",
        "      return np.where(x > 0, 1, alpha)\n",
        "\n",
        "    def tanh(self, x):\n",
        "      return np.tanh(x)\n",
        "\n",
        "    def tanh_derivative(self, x):\n",
        "      return 1 - np.tanh(x)**2\n",
        "\n",
        "    def elu(self,x, alpha=1.0):\n",
        "      return np.where(x >= 0, x, alpha * (np.exp(x) - 1))\n",
        "\n",
        "    def elu_derivative(self,x, alpha=1.0):\n",
        "      return np.where(x >= 0, 1, alpha * np.exp(x))\n",
        "\n",
        "    def softmax(self,x):\n",
        "      exp_x = np.exp(x - np.max(x, axis=1, keepdims=True))\n",
        "      return exp_x / np.sum(exp_x, axis=1, keepdims=True)\n",
        "\n",
        "    # Softmax derivative is complex and depends on the specific use case.\n",
        "    # Generally, it's computed using backpropagation.\n",
        "\n",
        "    def swish(self,x, beta=1):\n",
        "      return x * self.sigmoid(beta * x)\n",
        "\n",
        "    def swish_derivative(self,x, beta=1):\n",
        "      return sigmoid(beta * x) + beta * x * self.sigmoid_derivative(beta * x)\n",
        "\n",
        "    def PlotFunction(self, x,y=[],labels=[]):\n",
        "        plt.figure(figsize=(10, 6))\n",
        "        # Plot the sigmoid function\n",
        "        colormap = plt.get_cmap('seismic_r')\n",
        "        for [output,label] in zip(y,labels):\n",
        "            # plt.plot(x, output, label=label, color=colormap(random.rand()+random.randint(40)))\n",
        "            plt.plot(x, output, label=label, color=colormap(random.choice([3, 50, 70, 90])), linestyle= random.choice([\"dashed\"]))\n",
        "            # random.choice([3, 5, 7, 9])\n",
        "\n",
        "        # Plot the gradient\n",
        "        # plt.plot(x, dydx, label=\"Gradient\", color=\"red\", linestyle=\"dashed\")\n",
        "\n",
        "        # Add labels and title\n",
        "        plt.xlabel(\"x\")\n",
        "        plt.ylabel(\"y\")\n",
        "        plt.title(\"Sigmoid Function and Gradient\")\n",
        "\n",
        "        # Add legend\n",
        "        plt.legend()\n",
        "\n",
        "        # Show the plot\n",
        "        plt.grid(True)\n",
        "        plt.show()\n"
      ],
      "metadata": {
        "id": "HWtL4GFsNSfn"
      },
      "execution_count": null,
      "outputs": []
    },
    {
      "cell_type": "code",
      "source": [
        "\n",
        "class AdelineNeuron(object):\n",
        "  def __init__(self, shape, learning_rate =0.1, epoch=10, random_state =1):\n",
        "      self.shape = shape\n",
        "      self.learning_rate = learning_rate\n",
        "      self.epochs = epoch\n",
        "      self.weights = np.zeros(self.shape)\n",
        "      self.bias = np.zeros(1)\n",
        "      self.random_state = random_state\n",
        "      random.seed(self.random_state)\n",
        "\n",
        "  def train(self, inputs, targets, act_func = object):\n",
        "      self.act_function = act_func\n",
        "      self.target = targets\n",
        "      self.n_misclassifications_ = []\n",
        "      self.total_errors = []\n",
        "      for epoch in range(self.epochs):\n",
        "        total_error = 0\n",
        "        n_missclassifications = 0\n",
        "        print(\"Epoch:\" + str(epoch+1))\n",
        "        for i in range(len(inputs)):\n",
        "          input_pattern = inputs[i]\n",
        "          target = targets[i]\n",
        "          output = input_pattern.dot(self.weights)+self.bias\n",
        "          prediction = self.act_function.linear(output)\n",
        "          error = target - prediction\n",
        "          total_error += error\n",
        "          n_missclassifications += int(prediction != target)\n",
        "\n",
        "          if target != prediction:\n",
        "            self.weights += self.learning_rate * error * input_pattern\n",
        "            self.bias += self.learning_rate * error\n",
        "\n",
        "            print(\"Weight updated: \" + str(self.weights[0]))\n",
        "            print(\"Weight updated: \" + str(self.weights[1]))\n",
        "            print(\"Bias updated: \" + str(self.bias))\n",
        "            print(\"Total error: \" + str(total_error))\n",
        "            print(\"----------------------------------------\")\n",
        "        self.n_misclassifications_.append(n_missclassifications)\n",
        "        self.total_errors.append(total_error)\n",
        "\n",
        "        print(\"Total error: \" + str(total_error))\n",
        "        print(\"----------------------------------------\")\n",
        "        if n_missclassifications == 0:\n",
        "            break\n",
        "      return self\n",
        "\n",
        "  def predict(self, inputs, ret = False):\n",
        "     self.out_raw =[]\n",
        "     self.out_val =[]\n",
        "     for input_pattern in inputs:\n",
        "        sum = input_pattern.dot(self.weights)+self.bias\n",
        "        self.out_raw.append(sum)\n",
        "        output = self.act_function.linear(sum)\n",
        "        self.out_val.append(output[0])\n",
        "        if not ret:\n",
        "          print(f\"Input: {input_pattern}, Prediction:{output > 0}\")\n",
        "     return np.array([self.out_val])\n",
        "\n",
        "  def TruthTable(self, input, input_labels, output_labels, pred_labels=\"pre\"):\n",
        "    table = pd.DataFrame(input, columns = input_labels)\n",
        "\n",
        "    self.predict(input,True)\n",
        "    table[output_labels] = pd.Series(self.target)\n",
        "    table[pred_labels] = pd.Series(self.out_val)\n",
        "    return table"
      ],
      "metadata": {
        "id": "OJKLP3XhNXYC"
      },
      "execution_count": null,
      "outputs": []
    },
    {
      "cell_type": "code",
      "source": [
        "\n",
        "gen = np.random.RandomState(1)\n",
        "mean1, cov1 = [0, 0], [[1, 1], [1, 3]]\n",
        "mean2, cov2 = [0, 10], [[1, 50], [1, 3]]\n",
        "n_samples = 400\n",
        "X, y = pd.DataFrame(np.vstack([np.random.multivariate_normal(mean1, cov1, size=int(n_samples/2)),\n",
        "                               np.random.multivariate_normal(mean2, cov2, size=int(n_samples/2))]),\n",
        "                    columns=['x1', 'x2']), pd.Series([0]*int(n_samples/2)+[1]*int(n_samples/2), name='target')"
      ],
      "metadata": {
        "colab": {
          "base_uri": "https://localhost:8080/"
        },
        "id": "O5rEMkS7Nc93",
        "outputId": "34f9d7bb-4ca1-4e1c-f6cf-c7e5c879945c"
      },
      "execution_count": null,
      "outputs": [
        {
          "output_type": "stream",
          "name": "stderr",
          "text": [
            "<ipython-input-12-9012a3dc25ef>:6: RuntimeWarning: covariance is not symmetric positive-semidefinite.\n",
            "  np.random.multivariate_normal(mean2, cov2, size=int(n_samples/2))]),\n"
          ]
        }
      ]
    },
    {
      "cell_type": "code",
      "source": [
        "fig = plt.figure()\n",
        "ax = fig.subplots()\n",
        "ax.scatter(X.loc[y==0, 'x1'], X.loc[y==0, 'x2'], color='red', marker='o', label='class 0')\n",
        "ax.scatter(X.loc[y==1, 'x1'], X.loc[y==1, 'x2'], color='blue', marker='s', label='class 1')\n",
        "ax.set_xlabel('x1')\n",
        "ax.set_ylabel('x2')\n",
        "ax.legend()"
      ],
      "metadata": {
        "colab": {
          "base_uri": "https://localhost:8080/",
          "height": 466
        },
        "id": "HJvshKuYNfSO",
        "outputId": "22b92a74-01a6-4d02-c7de-ce8b469925ad"
      },
      "execution_count": null,
      "outputs": [
        {
          "output_type": "execute_result",
          "data": {
            "text/plain": [
              "<matplotlib.legend.Legend at 0x7fb3029a0040>"
            ]
          },
          "metadata": {},
          "execution_count": 13
        },
        {
          "output_type": "display_data",
          "data": {
            "text/plain": [
              "<Figure size 640x480 with 1 Axes>"
            ],
            "image/png": "[encoded data removed]"
          },
          "metadata": {}
        }
      ]
    },
    {
      "cell_type": "code",
      "source": [
        "inputs = np.array(X)\n",
        "targets = np.array(y)"
      ],
      "metadata": {
        "id": "-2adOpP1NhVm"
      },
      "execution_count": null,
      "outputs": []
    },
    {
      "cell_type": "code",
      "source": [
        "step= StepFunction()"
      ],
      "metadata": {
        "id": "Me70tK4pNkOX"
      },
      "execution_count": null,
      "outputs": []
    },
    {
      "cell_type": "code",
      "source": [
        "adel = AdelineNeuron(inputs.shape[1], 1,100)"
      ],
      "metadata": {
        "id": "Oy3dTy07Nl99"
      },
      "execution_count": null,
      "outputs": []
    },
    {
      "cell_type": "code",
      "source": [
        "fig = plt.figure()\n",
        "ax = fig.subplots()\n",
        "ax.plot(range(1, len(learning_adel.n_misclassifications_)+1), learning_adel.n_misclassifications_, marker='o')\n",
        "ax.set_xlabel('Epoch')\n",
        "ax.set_ylabel('Number of mis-classifications in epoch')\n",
        "# fig.savefig('output/convergence.png', dpi=600)\n",
        "print(f'weights and bias {learning_adel.weights}, {learning_adel.bias}')"
      ],
      "metadata": {
        "colab": {
          "base_uri": "https://localhost:8080/",
          "height": 466
        },
        "id": "eCnka_rmNuCw",
        "outputId": "bb850cbc-4cfc-4d42-cddb-abbf6da1e5e7"
      },
      "execution_count": null,
      "outputs": [
        {
          "output_type": "stream",
          "name": "stdout",
          "text": [
            "weights and bias [ 1.04064362 -0.18921873], [8.]\n"
          ]
        },
        {
          "output_type": "display_data",
          "data": {
            "text/plain": [
              "<Figure size 640x480 with 1 Axes>"
            ],
            "image/png": "[encoded data removed]"
          },
          "metadata": {}
        }
      ]
    },
    {
      "cell_type": "code",
      "source": [
        "from sklearn.inspection import DecisionBoundaryDisplay\n",
        "from matplotlib.colors import ListedColormap\n",
        "\n",
        "colors = ['red', 'blue']\n",
        "cmap = ListedColormap(colors[:len(np.unique(y))])\n",
        "\n",
        "x1, x2 = np.meshgrid(\n",
        "np.linspace(X.iloc[:,0].min(), X.iloc[:,0].max(), num=200),\n",
        "    np.linspace(X.iloc[:,1].min(), X.iloc[:,1].max(), num=200)\n",
        ")\n",
        "grid = np.vstack([x1.ravel(), x2.ravel()]).T\n",
        "learning_adel.predict(grid,True)\n",
        "y_pred = np.reshape(learning_adel.out_val, x1.shape)\n",
        "\n",
        "fig = plt.figure()\n",
        "ax = fig.subplots()\n",
        "display = DecisionBoundaryDisplay(xx0=x1, xx1=x2, response=y_pred)\n",
        "display.plot(ax=ax, plot_method='contourf', cmap=cmap, alpha=0.3)\n",
        "ax.set_xlabel('x1')\n",
        "ax.set_ylabel('x2')\n",
        "ax.scatter(X.loc[y==0, 'x1'], X.loc[y==0, 'x2'], color='red', marker='o', label='class 0')\n",
        "ax.scatter(X.loc[y==1, 'x1'], X.loc[y==1, 'x2'], color='blue', marker='s', label='class 1')\n",
        "ax.legend(loc='upper left')\n",
        "# fig.savefig('output/decision_boundary.png', dpi=600)"
      ],
      "metadata": {
        "colab": {
          "base_uri": "https://localhost:8080/",
          "height": 466
        },
        "id": "jq7pdKW0NxWb",
        "outputId": "cc6d72e8-ed2c-44fd-a19f-4a55b6041d32"
      },
      "execution_count": null,
      "outputs": [
        {
          "output_type": "execute_result",
          "data": {
            "text/plain": [
              "<matplotlib.legend.Legend at 0x7fb2f5d2b430>"
            ]
          },
          "metadata": {},
          "execution_count": 19
        },
        {
          "output_type": "display_data",
          "data": {
            "text/plain": [
              "<Figure size 640x480 with 1 Axes>"
            ],
            "image/png": "[encoded data removed]"
          },
          "metadata": {}
        }
      ]
    }
  ]
}